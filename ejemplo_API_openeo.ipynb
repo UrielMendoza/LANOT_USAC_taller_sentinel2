{
  "nbformat": 4,
  "nbformat_minor": 0,
  "metadata": {
    "colab": {
      "provenance": [],
      "authorship_tag": "ABX9TyOnIkwxN6C1C6i+RWfuCLCd",
      "include_colab_link": true
    },
    "kernelspec": {
      "name": "python3",
      "display_name": "Python 3"
    },
    "language_info": {
      "name": "python"
    }
  },
  "cells": [
    {
      "cell_type": "markdown",
      "metadata": {
        "id": "view-in-github",
        "colab_type": "text"
      },
      "source": [
        "<a href=\"https://colab.research.google.com/github/UrielMendoza/LANOT_USAC_taller_sentinel2/blob/main/ejemplo_API_openeo.ipynb\" target=\"_parent\"><img src=\"https://colab.research.google.com/assets/colab-badge.svg\" alt=\"Open In Colab\"/></a>"
      ]
    },
    {
      "cell_type": "markdown",
      "source": [
        "**Notebook 2: Cálculo de EVI y AFAI con openeo**\n",
        "\n",
        "Autor: urielm\n",
        "\n",
        "Fecha: 20 de noviembre de 2024\n",
        "\n",
        "Introducción\n",
        "\n",
        "Este notebook guía el cálculo de índices como el EVI y el AFAI utilizando datos Sentinel-2 y el cliente Python de openEO.\n"
      ],
      "metadata": {
        "id": "3QLxJqUB2iNC"
      }
    },
    {
      "cell_type": "code",
      "source": [
        "!pip install openeo rasterio"
      ],
      "metadata": {
        "colab": {
          "base_uri": "https://localhost:8080/"
        },
        "id": "oid7rRIn25PZ",
        "outputId": "7a2049bb-c155-41eb-fcf2-0a6b40cb7c18"
      },
      "execution_count": 2,
      "outputs": [
        {
          "output_type": "stream",
          "name": "stdout",
          "text": [
            "Collecting openeo\n",
            "  Downloading openeo-0.35.0-py3-none-any.whl.metadata (7.2 kB)\n",
            "Collecting rasterio\n",
            "  Downloading rasterio-1.4.2-cp310-cp310-manylinux_2_17_x86_64.manylinux2014_x86_64.whl.metadata (9.1 kB)\n",
            "Requirement already satisfied: requests>=2.26.0 in /usr/local/lib/python3.10/dist-packages (from openeo) (2.32.3)\n",
            "Requirement already satisfied: shapely>=1.6.4 in /usr/local/lib/python3.10/dist-packages (from openeo) (2.0.6)\n",
            "Requirement already satisfied: numpy>=1.17.0 in /usr/local/lib/python3.10/dist-packages (from openeo) (1.26.4)\n",
            "Requirement already satisfied: xarray>=0.12.3 in /usr/local/lib/python3.10/dist-packages (from openeo) (2024.10.0)\n",
            "Requirement already satisfied: pandas>0.20.0 in /usr/local/lib/python3.10/dist-packages (from openeo) (2.2.2)\n",
            "Collecting pystac>=1.5.0 (from openeo)\n",
            "  Downloading pystac-1.11.0-py3-none-any.whl.metadata (4.5 kB)\n",
            "Requirement already satisfied: deprecated>=1.2.12 in /usr/local/lib/python3.10/dist-packages (from openeo) (1.2.15)\n",
            "Collecting affine (from rasterio)\n",
            "  Downloading affine-2.4.0-py3-none-any.whl.metadata (4.0 kB)\n",
            "Requirement already satisfied: attrs in /usr/local/lib/python3.10/dist-packages (from rasterio) (24.2.0)\n",
            "Requirement already satisfied: certifi in /usr/local/lib/python3.10/dist-packages (from rasterio) (2024.8.30)\n",
            "Requirement already satisfied: click>=4.0 in /usr/local/lib/python3.10/dist-packages (from rasterio) (8.1.7)\n",
            "Collecting cligj>=0.5 (from rasterio)\n",
            "  Downloading cligj-0.7.2-py3-none-any.whl.metadata (5.0 kB)\n",
            "Collecting click-plugins (from rasterio)\n",
            "  Downloading click_plugins-1.1.1-py2.py3-none-any.whl.metadata (6.4 kB)\n",
            "Requirement already satisfied: pyparsing in /usr/local/lib/python3.10/dist-packages (from rasterio) (3.2.0)\n",
            "Requirement already satisfied: wrapt<2,>=1.10 in /usr/local/lib/python3.10/dist-packages (from deprecated>=1.2.12->openeo) (1.16.0)\n",
            "Requirement already satisfied: python-dateutil>=2.8.2 in /usr/local/lib/python3.10/dist-packages (from pandas>0.20.0->openeo) (2.8.2)\n",
            "Requirement already satisfied: pytz>=2020.1 in /usr/local/lib/python3.10/dist-packages (from pandas>0.20.0->openeo) (2024.2)\n",
            "Requirement already satisfied: tzdata>=2022.7 in /usr/local/lib/python3.10/dist-packages (from pandas>0.20.0->openeo) (2024.2)\n",
            "Requirement already satisfied: charset-normalizer<4,>=2 in /usr/local/lib/python3.10/dist-packages (from requests>=2.26.0->openeo) (3.4.0)\n",
            "Requirement already satisfied: idna<4,>=2.5 in /usr/local/lib/python3.10/dist-packages (from requests>=2.26.0->openeo) (3.10)\n",
            "Requirement already satisfied: urllib3<3,>=1.21.1 in /usr/local/lib/python3.10/dist-packages (from requests>=2.26.0->openeo) (2.2.3)\n",
            "Requirement already satisfied: packaging>=23.1 in /usr/local/lib/python3.10/dist-packages (from xarray>=0.12.3->openeo) (24.2)\n",
            "Requirement already satisfied: six>=1.5 in /usr/local/lib/python3.10/dist-packages (from python-dateutil>=2.8.2->pandas>0.20.0->openeo) (1.16.0)\n",
            "Downloading openeo-0.35.0-py3-none-any.whl (281 kB)\n",
            "\u001b[2K   \u001b[90m━━━━━━━━━━━━━━━━━━━━━━━━━━━━━━━━━━━━━━━━\u001b[0m \u001b[32m281.5/281.5 kB\u001b[0m \u001b[31m11.7 MB/s\u001b[0m eta \u001b[36m0:00:00\u001b[0m\n",
            "\u001b[?25hDownloading rasterio-1.4.2-cp310-cp310-manylinux_2_17_x86_64.manylinux2014_x86_64.whl (22.2 MB)\n",
            "\u001b[2K   \u001b[90m━━━━━━━━━━━━━━━━━━━━━━━━━━━━━━━━━━━━━━━━\u001b[0m \u001b[32m22.2/22.2 MB\u001b[0m \u001b[31m56.1 MB/s\u001b[0m eta \u001b[36m0:00:00\u001b[0m\n",
            "\u001b[?25hDownloading cligj-0.7.2-py3-none-any.whl (7.1 kB)\n",
            "Downloading pystac-1.11.0-py3-none-any.whl (183 kB)\n",
            "\u001b[2K   \u001b[90m━━━━━━━━━━━━━━━━━━━━━━━━━━━━━━━━━━━━━━━━\u001b[0m \u001b[32m183.9/183.9 kB\u001b[0m \u001b[31m12.4 MB/s\u001b[0m eta \u001b[36m0:00:00\u001b[0m\n",
            "\u001b[?25hDownloading affine-2.4.0-py3-none-any.whl (15 kB)\n",
            "Downloading click_plugins-1.1.1-py2.py3-none-any.whl (7.5 kB)\n",
            "Installing collected packages: cligj, click-plugins, affine, rasterio, pystac, openeo\n",
            "Successfully installed affine-2.4.0 click-plugins-1.1.1 cligj-0.7.2 openeo-0.35.0 pystac-1.11.0 rasterio-1.4.2\n"
          ]
        }
      ]
    },
    {
      "cell_type": "code",
      "source": [
        "import openeo\n",
        "import rasterio\n",
        "import matplotlib.pyplot as plt\n",
        "import numpy as np"
      ],
      "metadata": {
        "id": "X3DjpYur7CJG"
      },
      "execution_count": 17,
      "outputs": []
    },
    {
      "cell_type": "code",
      "source": [
        "# Conectar al backend de openEO\n",
        "connection = openeo.connect(\"openeo.dataspace.copernicus.eu\")\n",
        "connection.authenticate_oidc()\n"
      ],
      "metadata": {
        "colab": {
          "base_uri": "https://localhost:8080/"
        },
        "id": "ReYtJ87j2vbE",
        "outputId": "8d87b5bf-1cb6-4618-9298-64f1b6261493"
      },
      "execution_count": 12,
      "outputs": [
        {
          "output_type": "stream",
          "name": "stdout",
          "text": [
            "Authenticated using refresh token.\n"
          ]
        },
        {
          "output_type": "execute_result",
          "data": {
            "text/plain": [
              "<Connection to 'https://openeo.dataspace.copernicus.eu/openeo/1.2/' with OidcBearerAuth>"
            ]
          },
          "metadata": {},
          "execution_count": 12
        }
      ]
    },
    {
      "cell_type": "markdown",
      "source": [
        "2. Crear el cubo de datos"
      ],
      "metadata": {
        "id": "1yRdpclF3NvB"
      }
    },
    {
      "cell_type": "code",
      "source": [
        "def create_datacube(spatial_extent, temporal_extent, max_cloud_cover=20):\n",
        "    \"\"\"\n",
        "    Crea un cubo de datos Sentinel-2 L2A para un área y rango de fechas.\n",
        "    \"\"\"\n",
        "    return connection.load_collection(\n",
        "        \"SENTINEL2_L2A\",\n",
        "        spatial_extent=spatial_extent,\n",
        "        temporal_extent=temporal_extent,\n",
        "        bands=[\"B02\", \"B04\", \"B08\", \"B11\"],\n",
        "        max_cloud_cover=max_cloud_cover,\n",
        "    )\n"
      ],
      "metadata": {
        "id": "onDeZTJc3NXp"
      },
      "execution_count": 13,
      "outputs": []
    },
    {
      "cell_type": "markdown",
      "source": [
        "3. Cálculo de EVI"
      ],
      "metadata": {
        "id": "LgobQMx03R3w"
      }
    },
    {
      "cell_type": "code",
      "source": [
        "def calculate_evi(datacube):\n",
        "    \"\"\"\n",
        "    Calcula el índice EVI a partir del cubo de datos.\n",
        "    \"\"\"\n",
        "    blue = datacube.band(\"B02\") * 0.0001\n",
        "    red = datacube.band(\"B04\") * 0.0001\n",
        "    nir = datacube.band(\"B08\") * 0.0001\n",
        "    return 2.5 * (nir - red) / (nir + 6 * red - 7.5 * blue + 1)\n",
        "\n"
      ],
      "metadata": {
        "id": "-bjvftCB3Qyo"
      },
      "execution_count": 14,
      "outputs": []
    },
    {
      "cell_type": "markdown",
      "source": [
        "5. Cálculo y visualización del EVI\n",
        "\n",
        "Parámetros de interés para EVI"
      ],
      "metadata": {
        "id": "edrcRlfk7OWd"
      }
    },
    {
      "cell_type": "code",
      "source": [
        "# Coordenadas y fecha para EVI\n",
        "spatial_extent_evi = {\"west\": -90.96, \"south\": 14.40, \"east\": -90.95, \"north\": 14.41}\n",
        "temporal_extent_evi = [\"2024-08-21\", \"2024-08-21\"]\n",
        "\n",
        "# Crear el cubo de datos\n",
        "datacube_evi = create_datacube(spatial_extent_evi, temporal_extent_evi)\n",
        "\n",
        "# Calcular EVI\n",
        "evi_cube = calculate_evi(datacube_evi)\n",
        "\n",
        "# Descargar el resultado\n",
        "evi_cube.max_time().download(\"evi_composite.tif\")\n"
      ],
      "metadata": {
        "id": "kqeAdKd97PNL"
      },
      "execution_count": 15,
      "outputs": []
    },
    {
      "cell_type": "markdown",
      "source": [
        "Visualización del EVI\n"
      ],
      "metadata": {
        "id": "jR-9mZSD7Y-N"
      }
    },
    {
      "cell_type": "code",
      "source": [
        "# Visualizar el mapa y el histograma del EVI\n",
        "with rasterio.open(\"evi_composite.tif\") as src:\n",
        "    evi_data = src.read(1)\n",
        "    evi_data = np.where(evi_data > 0, evi_data, np.nan)  # Eliminar valores negativos\n",
        "\n",
        "plt.figure(figsize=(12, 5))\n",
        "\n",
        "# Mapa de EVI\n",
        "#plt.subplot(1, 2, 1)\n",
        "#plt.imshow(evi_data, cmap=\"YlGn\", vmin=0, vmax=1)\n",
        "#plt.colorbar(label=\"EVI\")\n",
        "#plt.title(\"Mapa EVI\")\n",
        "\n",
        "# Histograma de EVI\n",
        "#plt.subplot(1, 2, 2)\n",
        "#plt.hist(evi_data.flatten(), bins=50, color=\"green\", edgecolor=\"black\")\n",
        "#plt.title(\"Histograma de EVI\")\n",
        "#plt.xlabel(\"EVI\")\n",
        "#plt.ylabel(\"Frecuencia\")\n",
        "\n",
        "#plt.tight_layout()\n",
        "#plt.show()\n"
      ],
      "metadata": {
        "colab": {
          "base_uri": "https://localhost:8080/",
          "height": 52
        },
        "id": "U2ItDIs57T3S",
        "outputId": "67f02e90-1f59-4294-96c1-c6f46c4bf58a"
      },
      "execution_count": 35,
      "outputs": [
        {
          "output_type": "execute_result",
          "data": {
            "text/plain": [
              "<Figure size 1200x500 with 0 Axes>"
            ]
          },
          "metadata": {},
          "execution_count": 35
        },
        {
          "output_type": "display_data",
          "data": {
            "text/plain": [
              "<Figure size 1200x500 with 0 Axes>"
            ]
          },
          "metadata": {}
        }
      ]
    },
    {
      "cell_type": "markdown",
      "source": [
        "6. Función para calcular AFAI\n"
      ],
      "metadata": {
        "id": "gflsqTdJ7lhs"
      }
    },
    {
      "cell_type": "code",
      "source": [
        "def calculate_afai(datacube):\n",
        "    \"\"\"\n",
        "    Calcula el índice AFAI a partir del cubo de datos.\n",
        "    \"\"\"\n",
        "    red = datacube.band(\"B04\") * 0.0001\n",
        "    nir = datacube.band(\"B08\") * 0.0001\n",
        "    swir = datacube.band(\"B11\") * 0.0001\n",
        "    return nir - (red + (swir - red) * 0.5)\n"
      ],
      "metadata": {
        "id": "yWaEKEpX7bnd"
      },
      "execution_count": 19,
      "outputs": []
    },
    {
      "cell_type": "markdown",
      "source": [
        "7. Cálculo y visualización del AFAI\n",
        "\n",
        "Parámetros de interés para AFAI"
      ],
      "metadata": {
        "id": "0qX-St2E7p39"
      }
    },
    {
      "cell_type": "code",
      "source": [
        "# Coordenadas y fecha para AFAI\n",
        "spatial_extent_afai = {\"west\": -88.25, \"south\": 16.36, \"east\": -88.20, \"north\": 16.39}\n",
        "temporal_extent_afai = [\"2024-05-05\", \"2024-05-05\"]\n",
        "\n",
        "# Crear el cubo de datos\n",
        "datacube_afai = create_datacube(spatial_extent_afai, temporal_extent_afai)\n",
        "\n",
        "# Calcular AFAI\n",
        "afai_cube = calculate_afai(datacube_afai)\n",
        "\n",
        "# Descargar el resultado\n",
        "afai_cube.max_time().download(\"afai_composite.tif\")\n"
      ],
      "metadata": {
        "id": "nbDsgJ7h7of_"
      },
      "execution_count": 27,
      "outputs": []
    },
    {
      "cell_type": "markdown",
      "source": [
        "Visualización del AFAI"
      ],
      "metadata": {
        "id": "vI7MLEAj7yJc"
      }
    },
    {
      "cell_type": "code",
      "source": [
        "# Visualizar el mapa y el histograma del AFAI\n",
        "with rasterio.open(\"afai_composite.tif\") as src:\n",
        "    afai_data = src.read(1)\n",
        "    afai_data = np.where(afai_data > 0, afai_data, np.nan)  # Eliminar valores negativos\n",
        "\n",
        "plt.figure(figsize=(12, 5))\n",
        "\n",
        "# Mapa de AFAI\n",
        "#plt.subplot(1, 2, 1)\n",
        "#plt.imshow(afai_data, cmap=\"cool\", vmin=0, vmax=0.5)\n",
        "#plt.colorbar(label=\"AFAI\")\n",
        "#plt.title(\"Mapa AFAI\")\n",
        "\n",
        "# Histograma de AFAI\n",
        "#plt.subplot(1, 2, 2)\n",
        "#plt.hist(afai_data.flatten(), bins=50, color=\"blue\", edgecolor=\"black\")\n",
        "#plt.title(\"Histograma de AFAI\")\n",
        "#plt.xlabel(\"AFAI\")\n",
        "#plt.ylabel(\"Frecuencia\")\n",
        "\n",
        "#plt.tight_layout()\n",
        "#plt.show()\n"
      ],
      "metadata": {
        "colab": {
          "base_uri": "https://localhost:8080/",
          "height": 52
        },
        "id": "KcNpGhox7wY1",
        "outputId": "f8f6a061-6fa2-4e86-fabb-21af850a9db1"
      },
      "execution_count": 36,
      "outputs": [
        {
          "output_type": "execute_result",
          "data": {
            "text/plain": [
              "<Figure size 1200x500 with 0 Axes>"
            ]
          },
          "metadata": {},
          "execution_count": 36
        },
        {
          "output_type": "display_data",
          "data": {
            "text/plain": [
              "<Figure size 1200x500 with 0 Axes>"
            ]
          },
          "metadata": {}
        }
      ]
    }
  ]
}