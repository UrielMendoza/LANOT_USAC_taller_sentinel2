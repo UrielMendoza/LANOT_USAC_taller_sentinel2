{
  "nbformat": 4,
  "nbformat_minor": 0,
  "metadata": {
    "colab": {
      "provenance": [],
      "authorship_tag": "ABX9TyO7R8Y4NS+HnIT8YnbhPWIJ",
      "include_colab_link": true
    },
    "kernelspec": {
      "name": "python3",
      "display_name": "Python 3"
    },
    "language_info": {
      "name": "python"
    }
  },
  "cells": [
    {
      "cell_type": "markdown",
      "metadata": {
        "id": "view-in-github",
        "colab_type": "text"
      },
      "source": [
        "<a href=\"https://colab.research.google.com/github/UrielMendoza/LANOT_USAC_taller_sentinel2/blob/main/ejemplo_API_rest.ipynb\" target=\"_parent\"><img src=\"https://colab.research.google.com/assets/colab-badge.svg\" alt=\"Open In Colab\"/></a>"
      ]
    },
    {
      "cell_type": "markdown",
      "source": [
        "**Notebook 1: Descarga de Imágenes Sentinel-2 Nivel L2A**\n",
        "\n",
        "Autor: urielm\n",
        "\n",
        "Fecha: 20 de noviembre de 2024\n",
        "\n",
        "Introducción\n",
        "\n",
        "Este notebook muestra cómo buscar y descargar imágenes Sentinel-2 Nivel L2A para tiles específicos y fechas definidas utilizando la API de Copernicus Data Space."
      ],
      "metadata": {
        "id": "mJ-agNKt0R9z"
      }
    },
    {
      "cell_type": "markdown",
      "source": [
        "1. Importar bibliotecas necesarias"
      ],
      "metadata": {
        "id": "v881rIHR0jWy"
      }
    },
    {
      "cell_type": "code",
      "source": [
        "import datetime\n",
        "import os\n",
        "import requests\n",
        "import pandas as pd\n",
        "import time\n"
      ],
      "metadata": {
        "id": "8yRw8MMk0hVj"
      },
      "execution_count": 1,
      "outputs": []
    },
    {
      "cell_type": "markdown",
      "source": [
        "2. Configuración de credenciales y tiles\n",
        "python\n",
        "Copiar código\n"
      ],
      "metadata": {
        "id": "fBXiW9Fj0qIa"
      }
    },
    {
      "cell_type": "code",
      "source": [
        "# Credenciales para Copernicus Data Space\n",
        "Dataspace_username = \"\"  # Reemplaza con tu usuario\n",
        "Dataspace_password = \"\"  # Reemplaza con tu contraseña\n",
        "\n",
        "# Tiles de interés\n",
        "tiles = {\n",
        "    \"prueba\": [\"16PCC\"]  # Agrega aquí los tiles que necesitas\n",
        "}\n"
      ],
      "metadata": {
        "id": "lVzyVicx0plD"
      },
      "execution_count": 2,
      "outputs": []
    },
    {
      "cell_type": "markdown",
      "source": [
        "3. Obtener el token de acceso"
      ],
      "metadata": {
        "id": "kJxXhQ1h1Ldy"
      }
    },
    {
      "cell_type": "code",
      "source": [
        "def get_access_token(username: str, password: str) -> str:\n",
        "    \"\"\"\n",
        "    Obtiene un token de acceso para la API de Copernicus DataSpace.\n",
        "    \"\"\"\n",
        "    data = {\n",
        "        \"client_id\": \"cdse-public\",\n",
        "        \"username\": username,\n",
        "        \"password\": password,\n",
        "        \"grant_type\": \"password\",\n",
        "    }\n",
        "    try:\n",
        "        response = requests.post(\n",
        "            \"https://identity.dataspace.copernicus.eu/auth/realms/CDSE/protocol/openid-connect/token\",\n",
        "            data=data,\n",
        "        )\n",
        "        response.raise_for_status()\n",
        "    except Exception as e:\n",
        "        raise Exception(\n",
        "            f\"Error al obtener el token de acceso. Respuesta del servidor: {response.json()}\"\n",
        "        )\n",
        "    return response.json()[\"access_token\"]\n"
      ],
      "metadata": {
        "id": "ptJTAgT01MjC"
      },
      "execution_count": 3,
      "outputs": []
    },
    {
      "cell_type": "markdown",
      "source": [
        "4. Buscar productos Sentinel-2\n"
      ],
      "metadata": {
        "id": "1DTlLubI1Nmi"
      }
    },
    {
      "cell_type": "code",
      "source": [
        "def search_products(tile=None, date=None, product_type=\"L2A\") -> dict:\n",
        "    \"\"\"\n",
        "    Busca productos Sentinel-2 en la API de Copernicus DataSpace para un tile y fecha.\n",
        "    \"\"\"\n",
        "    date_str = date.strftime(\"%Y%m%d\")\n",
        "    level = \"MSIL2A\" if product_type == \"L2A\" else \"MSIL1C\"\n",
        "    query = f\"{level}_{date_str}\"\n",
        "\n",
        "    url = f\"https://catalogue.dataspace.copernicus.eu/odata/v1/Products?$filter=contains(Name, '{query}') and contains(Name, '{tile}')\"\n",
        "    response = requests.get(url)\n",
        "    if response.status_code != 200:\n",
        "        raise Exception(\"Error al buscar productos.\")\n",
        "    json_response = response.json()\n",
        "\n",
        "    if not json_response[\"value\"]:\n",
        "        raise Exception(f\"No se encontraron productos para el tile {tile} y fecha {date_str}.\")\n",
        "\n",
        "    product_info = json_response[\"value\"][0]\n",
        "    return {\n",
        "        'id': product_info['Id'],\n",
        "        'name': product_info['Name'],\n",
        "        'tile': tile,\n",
        "        'origin_date': product_info['OriginDate'],\n",
        "    }\n"
      ],
      "metadata": {
        "id": "VK24l6tv1Qc4"
      },
      "execution_count": 4,
      "outputs": []
    },
    {
      "cell_type": "markdown",
      "source": [
        "5. Descargar productos"
      ],
      "metadata": {
        "id": "WmbD_Xin1R8x"
      }
    },
    {
      "cell_type": "code",
      "source": [
        "def download_products(product: dict, datadir: str, max_retries=3):\n",
        "    \"\"\"\n",
        "    Descarga un producto Sentinel-2 de la API de Copernicus DataSpace.\n",
        "    \"\"\"\n",
        "    access_token = get_access_token(Dataspace_username, Dataspace_password)\n",
        "    headers = {\"Authorization\": f\"Bearer {access_token}\"}\n",
        "\n",
        "    product_id = product['id']\n",
        "    product_name = product['name']\n",
        "    tile = product['tile']\n",
        "    url = f\"https://zipper.dataspace.copernicus.eu/odata/v1/Products({product_id})/$value\"\n",
        "\n",
        "    print(f\"Intentando descargar desde: {url}\")\n",
        "\n",
        "    for attempt in range(max_retries):\n",
        "        response = requests.get(url, headers=headers, stream=True)\n",
        "        if response.status_code == 200:\n",
        "            break\n",
        "        print(f\"Intento {attempt + 1} fallido: {response.status_code}\")\n",
        "        print(f\"Detalle del error: {response.text}\")  # Depurar errores\n",
        "        time.sleep(5)\n",
        "\n",
        "    if response.status_code != 200:\n",
        "        raise Exception(f\"Error al descargar el producto después de {max_retries} intentos. Código: {response.status_code}, Detalle: {response.text}\")\n",
        "\n",
        "    tile_dir = os.path.join(datadir, f\"T{tile}\")\n",
        "    os.makedirs(tile_dir, exist_ok=True)\n",
        "\n",
        "    file_path = os.path.join(tile_dir, f\"{product_name}.zip\")\n",
        "    with open(file_path, 'wb') as file:\n",
        "        print(f'Descargando {product_name}...')\n",
        "        for chunk in response.iter_content(chunk_size=8192):\n",
        "            if chunk:\n",
        "                file.write(chunk)\n",
        "    print(f\"Descarga completa: {file_path}\")\n"
      ],
      "metadata": {
        "id": "e974JiYV1UAc"
      },
      "execution_count": 5,
      "outputs": []
    },
    {
      "cell_type": "markdown",
      "source": [
        "6. Buscar y descargar datasets"
      ],
      "metadata": {
        "id": "JYuEFic31XRz"
      }
    },
    {
      "cell_type": "code",
      "source": [
        "def search_and_download_datasets(tiles, start_date, datadir):\n",
        "    \"\"\"\n",
        "    Busca y descarga productos Sentinel-2 para una lista de tiles y una fecha específica.\n",
        "    \"\"\"\n",
        "    for tile in tiles:\n",
        "        try:\n",
        "            product = search_products(tile, start_date, product_type=\"L2A\")\n",
        "            print(f\"Producto encontrado: {product}\")\n",
        "            download_products(product, datadir)\n",
        "        except Exception as e:\n",
        "            print(f\"Error al procesar el tile {tile}: {e}\")\n"
      ],
      "metadata": {
        "id": "ZeI24wx21XzF"
      },
      "execution_count": 6,
      "outputs": []
    },
    {
      "cell_type": "markdown",
      "source": [
        "7. Ejecutar el proceso"
      ],
      "metadata": {
        "id": "vDjI9GeA1af6"
      }
    },
    {
      "cell_type": "code",
      "source": [
        "if __name__ == \"__main__\":\n",
        "    # Configuración de directorio de salida\n",
        "    datadir = './datos/'  # Directorio donde se guardarán los productos\n",
        "\n",
        "    # Fecha de interés\n",
        "    start_date = datetime.date(2024, 5, 5)\n",
        "\n",
        "    print(f\"Iniciando búsqueda y descarga para la fecha: {start_date}\")\n",
        "    search_and_download_datasets(tiles[\"prueba\"], start_date, datadir)\n"
      ],
      "metadata": {
        "colab": {
          "base_uri": "https://localhost:8080/"
        },
        "id": "HitaghXA1bBr",
        "outputId": "6c3e21fa-f809-43cc-eff1-0ade776355af"
      },
      "execution_count": 7,
      "outputs": [
        {
          "output_type": "stream",
          "name": "stdout",
          "text": [
            "Iniciando búsqueda y descarga para la fecha: 2024-05-05\n",
            "Producto encontrado: {'id': 'ebd6ec04-afc7-4340-ac3c-ba0c686b0b67', 'name': 'S2A_MSIL2A_20240505T160901_N0510_R140_T16PCC_20240505T235451.SAFE', 'tile': '16PCC', 'origin_date': '2024-05-06T00:50:53.000000Z'}\n",
            "Intentando descargar desde: https://zipper.dataspace.copernicus.eu/odata/v1/Products(ebd6ec04-afc7-4340-ac3c-ba0c686b0b67)/$value\n",
            "Descargando S2A_MSIL2A_20240505T160901_N0510_R140_T16PCC_20240505T235451.SAFE...\n",
            "Descarga completa: ./datos/T16PCC/S2A_MSIL2A_20240505T160901_N0510_R140_T16PCC_20240505T235451.SAFE.zip\n"
          ]
        }
      ]
    }
  ]
}